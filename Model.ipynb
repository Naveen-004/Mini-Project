{
 "cells": [
  {
   "cell_type": "code",
   "execution_count": 84,
   "metadata": {},
   "outputs": [],
   "source": [
    "import datetime\n",
    "import numpy as np\n",
    "import pandas as pd\n",
    "from datetime import date\n",
    "import plotly.express as px\n",
    "from nsepy import get_history\n",
    "import matplotlib.pyplot as plt\n",
    "from keras.models import Sequential\n",
    "from keras.layers import LSTM, Dense, Dropout\n",
    "from sklearn.metrics import mean_squared_error\n",
    "from sklearn.preprocessing import MinMaxScaler\n",
    "%matplotlib inline"
   ]
  },
  {
   "cell_type": "code",
   "execution_count": 85,
   "metadata": {},
   "outputs": [],
   "source": [
    "stock_name = input('Enter NSE Stock Name: ').upper()\n",
    "date_entry = input('Enter a date in yyyy,m,d format')\n",
    "year, month, day = map(int, date_entry.split(','))\n",
    "start_date= datetime.date(year, month, day)\n",
    "end_date = date.today()\n",
    "# get_history(symbol = 'SBIN', start=date(2015,1,1), end=date(2022,3,1))\n",
    "def stock_df(s, sd, ed):\n",
    "    df = get_history(symbol=s, start=sd, end=ed)\n",
    "    return df"
   ]
  },
  {
   "cell_type": "code",
   "execution_count": 86,
   "metadata": {},
   "outputs": [
    {
     "data": {
      "text/html": [
       "<div>\n",
       "<style scoped>\n",
       "    .dataframe tbody tr th:only-of-type {\n",
       "        vertical-align: middle;\n",
       "    }\n",
       "\n",
       "    .dataframe tbody tr th {\n",
       "        vertical-align: top;\n",
       "    }\n",
       "\n",
       "    .dataframe thead th {\n",
       "        text-align: right;\n",
       "    }\n",
       "</style>\n",
       "<table border=\"1\" class=\"dataframe\">\n",
       "  <thead>\n",
       "    <tr style=\"text-align: right;\">\n",
       "      <th></th>\n",
       "      <th>Symbol</th>\n",
       "      <th>Series</th>\n",
       "      <th>Prev Close</th>\n",
       "      <th>Open</th>\n",
       "      <th>High</th>\n",
       "      <th>Low</th>\n",
       "      <th>Last</th>\n",
       "      <th>Close</th>\n",
       "      <th>VWAP</th>\n",
       "      <th>Volume</th>\n",
       "      <th>Turnover</th>\n",
       "      <th>Trades</th>\n",
       "      <th>Deliverable Volume</th>\n",
       "      <th>%Deliverble</th>\n",
       "    </tr>\n",
       "    <tr>\n",
       "      <th>Date</th>\n",
       "      <th></th>\n",
       "      <th></th>\n",
       "      <th></th>\n",
       "      <th></th>\n",
       "      <th></th>\n",
       "      <th></th>\n",
       "      <th></th>\n",
       "      <th></th>\n",
       "      <th></th>\n",
       "      <th></th>\n",
       "      <th></th>\n",
       "      <th></th>\n",
       "      <th></th>\n",
       "      <th></th>\n",
       "    </tr>\n",
       "  </thead>\n",
       "  <tbody>\n",
       "    <tr>\n",
       "      <th>2015-01-01</th>\n",
       "      <td>SBIN</td>\n",
       "      <td>EQ</td>\n",
       "      <td>311.85</td>\n",
       "      <td>312.45</td>\n",
       "      <td>315.00</td>\n",
       "      <td>310.70</td>\n",
       "      <td>314.0</td>\n",
       "      <td>314.00</td>\n",
       "      <td>313.67</td>\n",
       "      <td>6138488</td>\n",
       "      <td>1.925489e+14</td>\n",
       "      <td>58688</td>\n",
       "      <td>1877677</td>\n",
       "      <td>0.3059</td>\n",
       "    </tr>\n",
       "    <tr>\n",
       "      <th>2015-01-02</th>\n",
       "      <td>SBIN</td>\n",
       "      <td>EQ</td>\n",
       "      <td>314.00</td>\n",
       "      <td>314.35</td>\n",
       "      <td>318.30</td>\n",
       "      <td>314.35</td>\n",
       "      <td>315.6</td>\n",
       "      <td>315.25</td>\n",
       "      <td>316.80</td>\n",
       "      <td>9935094</td>\n",
       "      <td>3.147389e+14</td>\n",
       "      <td>79553</td>\n",
       "      <td>4221685</td>\n",
       "      <td>0.4249</td>\n",
       "    </tr>\n",
       "    <tr>\n",
       "      <th>2015-01-05</th>\n",
       "      <td>SBIN</td>\n",
       "      <td>EQ</td>\n",
       "      <td>315.25</td>\n",
       "      <td>316.25</td>\n",
       "      <td>316.80</td>\n",
       "      <td>312.10</td>\n",
       "      <td>312.8</td>\n",
       "      <td>312.75</td>\n",
       "      <td>313.84</td>\n",
       "      <td>9136716</td>\n",
       "      <td>2.867432e+14</td>\n",
       "      <td>88236</td>\n",
       "      <td>3845173</td>\n",
       "      <td>0.4208</td>\n",
       "    </tr>\n",
       "    <tr>\n",
       "      <th>2015-01-06</th>\n",
       "      <td>SBIN</td>\n",
       "      <td>EQ</td>\n",
       "      <td>312.75</td>\n",
       "      <td>310.00</td>\n",
       "      <td>311.10</td>\n",
       "      <td>298.70</td>\n",
       "      <td>299.9</td>\n",
       "      <td>299.90</td>\n",
       "      <td>305.14</td>\n",
       "      <td>15329257</td>\n",
       "      <td>4.677601e+14</td>\n",
       "      <td>169268</td>\n",
       "      <td>7424847</td>\n",
       "      <td>0.4844</td>\n",
       "    </tr>\n",
       "    <tr>\n",
       "      <th>2015-01-07</th>\n",
       "      <td>SBIN</td>\n",
       "      <td>EQ</td>\n",
       "      <td>299.90</td>\n",
       "      <td>300.00</td>\n",
       "      <td>302.55</td>\n",
       "      <td>295.15</td>\n",
       "      <td>301.4</td>\n",
       "      <td>300.15</td>\n",
       "      <td>299.95</td>\n",
       "      <td>15046745</td>\n",
       "      <td>4.513243e+14</td>\n",
       "      <td>147185</td>\n",
       "      <td>5631400</td>\n",
       "      <td>0.3743</td>\n",
       "    </tr>\n",
       "  </tbody>\n",
       "</table>\n",
       "</div>"
      ],
      "text/plain": [
       "           Symbol Series  Prev Close    Open    High     Low   Last   Close  \\\n",
       "Date                                                                          \n",
       "2015-01-01   SBIN     EQ      311.85  312.45  315.00  310.70  314.0  314.00   \n",
       "2015-01-02   SBIN     EQ      314.00  314.35  318.30  314.35  315.6  315.25   \n",
       "2015-01-05   SBIN     EQ      315.25  316.25  316.80  312.10  312.8  312.75   \n",
       "2015-01-06   SBIN     EQ      312.75  310.00  311.10  298.70  299.9  299.90   \n",
       "2015-01-07   SBIN     EQ      299.90  300.00  302.55  295.15  301.4  300.15   \n",
       "\n",
       "              VWAP    Volume      Turnover  Trades  Deliverable Volume  \\\n",
       "Date                                                                     \n",
       "2015-01-01  313.67   6138488  1.925489e+14   58688             1877677   \n",
       "2015-01-02  316.80   9935094  3.147389e+14   79553             4221685   \n",
       "2015-01-05  313.84   9136716  2.867432e+14   88236             3845173   \n",
       "2015-01-06  305.14  15329257  4.677601e+14  169268             7424847   \n",
       "2015-01-07  299.95  15046745  4.513243e+14  147185             5631400   \n",
       "\n",
       "            %Deliverble  \n",
       "Date                     \n",
       "2015-01-01       0.3059  \n",
       "2015-01-02       0.4249  \n",
       "2015-01-05       0.4208  \n",
       "2015-01-06       0.4844  \n",
       "2015-01-07       0.3743  "
      ]
     },
     "execution_count": 86,
     "metadata": {},
     "output_type": "execute_result"
    }
   ],
   "source": [
    "data = stock_df(stock_name, start_date, end_date)\n",
    "data.head()"
   ]
  },
  {
   "cell_type": "code",
   "execution_count": 87,
   "metadata": {},
   "outputs": [
    {
     "name": "stderr",
     "output_type": "stream",
     "text": [
      "C:\\Users\\chinn\\AppData\\Local\\Temp\\ipykernel_2268\\3798465441.py:3: SettingWithCopyWarning: \n",
      "A value is trying to be set on a copy of a slice from a DataFrame\n",
      "\n",
      "See the caveats in the documentation: https://pandas.pydata.org/pandas-docs/stable/user_guide/indexing.html#returning-a-view-versus-a-copy\n",
      "  df.drop(['Date'], axis=1, inplace=True)\n"
     ]
    },
    {
     "data": {
      "text/html": [
       "<div>\n",
       "<style scoped>\n",
       "    .dataframe tbody tr th:only-of-type {\n",
       "        vertical-align: middle;\n",
       "    }\n",
       "\n",
       "    .dataframe tbody tr th {\n",
       "        vertical-align: top;\n",
       "    }\n",
       "\n",
       "    .dataframe thead th {\n",
       "        text-align: right;\n",
       "    }\n",
       "</style>\n",
       "<table border=\"1\" class=\"dataframe\">\n",
       "  <thead>\n",
       "    <tr style=\"text-align: right;\">\n",
       "      <th></th>\n",
       "      <th>Open</th>\n",
       "      <th>High</th>\n",
       "      <th>Low</th>\n",
       "      <th>Close</th>\n",
       "      <th>Volume</th>\n",
       "    </tr>\n",
       "  </thead>\n",
       "  <tbody>\n",
       "    <tr>\n",
       "      <th>0</th>\n",
       "      <td>312.45</td>\n",
       "      <td>315.00</td>\n",
       "      <td>310.70</td>\n",
       "      <td>314.00</td>\n",
       "      <td>6138488</td>\n",
       "    </tr>\n",
       "    <tr>\n",
       "      <th>1</th>\n",
       "      <td>314.35</td>\n",
       "      <td>318.30</td>\n",
       "      <td>314.35</td>\n",
       "      <td>315.25</td>\n",
       "      <td>9935094</td>\n",
       "    </tr>\n",
       "    <tr>\n",
       "      <th>2</th>\n",
       "      <td>316.25</td>\n",
       "      <td>316.80</td>\n",
       "      <td>312.10</td>\n",
       "      <td>312.75</td>\n",
       "      <td>9136716</td>\n",
       "    </tr>\n",
       "    <tr>\n",
       "      <th>3</th>\n",
       "      <td>310.00</td>\n",
       "      <td>311.10</td>\n",
       "      <td>298.70</td>\n",
       "      <td>299.90</td>\n",
       "      <td>15329257</td>\n",
       "    </tr>\n",
       "    <tr>\n",
       "      <th>4</th>\n",
       "      <td>300.00</td>\n",
       "      <td>302.55</td>\n",
       "      <td>295.15</td>\n",
       "      <td>300.15</td>\n",
       "      <td>15046745</td>\n",
       "    </tr>\n",
       "  </tbody>\n",
       "</table>\n",
       "</div>"
      ],
      "text/plain": [
       "     Open    High     Low   Close    Volume\n",
       "0  312.45  315.00  310.70  314.00   6138488\n",
       "1  314.35  318.30  314.35  315.25   9935094\n",
       "2  316.25  316.80  312.10  312.75   9136716\n",
       "3  310.00  311.10  298.70  299.90  15329257\n",
       "4  300.00  302.55  295.15  300.15  15046745"
      ]
     },
     "execution_count": 87,
     "metadata": {},
     "output_type": "execute_result"
    }
   ],
   "source": [
    "df = data[['Open', 'High', 'Low', 'Close', 'Volume']]\n",
    "df.reset_index(inplace=True)\n",
    "df.drop(['Date'], axis=1, inplace=True)\n",
    "df.head()"
   ]
  },
  {
   "cell_type": "code",
   "execution_count": 88,
   "metadata": {},
   "outputs": [
    {
     "data": {
      "text/plain": [
       "[<matplotlib.lines.Line2D at 0x1df19a26950>]"
      ]
     },
     "execution_count": 88,
     "metadata": {},
     "output_type": "execute_result"
    },
    {
     "data": {
      "image/png": "[encoded data removed]",
      "text/plain": [
       "<Figure size 432x288 with 1 Axes>"
      ]
     },
     "metadata": {
      "needs_background": "light"
     },
     "output_type": "display_data"
    }
   ],
   "source": [
    "plt.plot(df.Close)\n",
    "plt.plot(df.Close.rolling(100).mean(), color='red')\n",
    "plt.plot(df.Close.rolling(200).mean(), color='green')"
   ]
  },
  {
   "cell_type": "code",
   "execution_count": 89,
   "metadata": {},
   "outputs": [
    {
     "data": {
      "text/plain": [
       "((1386, 1), (462, 1))"
      ]
     },
     "execution_count": 89,
     "metadata": {},
     "output_type": "execute_result"
    }
   ],
   "source": [
    "train_df = pd.DataFrame(df.Close[0:int(len(df.Close)*0.75)])\n",
    "test_df = pd.DataFrame(df.Close[int(len(df.Close)*0.75):int(len(df))])\n",
    "train_df.shape, test_df.shape"
   ]
  },
  {
   "cell_type": "code",
   "execution_count": 90,
   "metadata": {},
   "outputs": [
    {
     "data": {
      "text/html": [
       "<div>\n",
       "<style scoped>\n",
       "    .dataframe tbody tr th:only-of-type {\n",
       "        vertical-align: middle;\n",
       "    }\n",
       "\n",
       "    .dataframe tbody tr th {\n",
       "        vertical-align: top;\n",
       "    }\n",
       "\n",
       "    .dataframe thead th {\n",
       "        text-align: right;\n",
       "    }\n",
       "</style>\n",
       "<table border=\"1\" class=\"dataframe\">\n",
       "  <thead>\n",
       "    <tr style=\"text-align: right;\">\n",
       "      <th></th>\n",
       "      <th>Close</th>\n",
       "    </tr>\n",
       "  </thead>\n",
       "  <tbody>\n",
       "    <tr>\n",
       "      <th>0</th>\n",
       "      <td>314.00</td>\n",
       "    </tr>\n",
       "    <tr>\n",
       "      <th>1</th>\n",
       "      <td>315.25</td>\n",
       "    </tr>\n",
       "    <tr>\n",
       "      <th>2</th>\n",
       "      <td>312.75</td>\n",
       "    </tr>\n",
       "    <tr>\n",
       "      <th>3</th>\n",
       "      <td>299.90</td>\n",
       "    </tr>\n",
       "    <tr>\n",
       "      <th>4</th>\n",
       "      <td>300.15</td>\n",
       "    </tr>\n",
       "  </tbody>\n",
       "</table>\n",
       "</div>"
      ],
      "text/plain": [
       "    Close\n",
       "0  314.00\n",
       "1  315.25\n",
       "2  312.75\n",
       "3  299.90\n",
       "4  300.15"
      ]
     },
     "execution_count": 90,
     "metadata": {},
     "output_type": "execute_result"
    }
   ],
   "source": [
    "train_df.head()"
   ]
  },
  {
   "cell_type": "code",
   "execution_count": 91,
   "metadata": {},
   "outputs": [
    {
     "data": {
      "text/html": [
       "<div>\n",
       "<style scoped>\n",
       "    .dataframe tbody tr th:only-of-type {\n",
       "        vertical-align: middle;\n",
       "    }\n",
       "\n",
       "    .dataframe tbody tr th {\n",
       "        vertical-align: top;\n",
       "    }\n",
       "\n",
       "    .dataframe thead th {\n",
       "        text-align: right;\n",
       "    }\n",
       "</style>\n",
       "<table border=\"1\" class=\"dataframe\">\n",
       "  <thead>\n",
       "    <tr style=\"text-align: right;\">\n",
       "      <th></th>\n",
       "      <th>Close</th>\n",
       "    </tr>\n",
       "  </thead>\n",
       "  <tbody>\n",
       "    <tr>\n",
       "      <th>1386</th>\n",
       "      <td>195.05</td>\n",
       "    </tr>\n",
       "    <tr>\n",
       "      <th>1387</th>\n",
       "      <td>203.30</td>\n",
       "    </tr>\n",
       "    <tr>\n",
       "      <th>1388</th>\n",
       "      <td>201.90</td>\n",
       "    </tr>\n",
       "    <tr>\n",
       "      <th>1389</th>\n",
       "      <td>196.50</td>\n",
       "    </tr>\n",
       "    <tr>\n",
       "      <th>1390</th>\n",
       "      <td>193.10</td>\n",
       "    </tr>\n",
       "  </tbody>\n",
       "</table>\n",
       "</div>"
      ],
      "text/plain": [
       "       Close\n",
       "1386  195.05\n",
       "1387  203.30\n",
       "1388  201.90\n",
       "1389  196.50\n",
       "1390  193.10"
      ]
     },
     "execution_count": 91,
     "metadata": {},
     "output_type": "execute_result"
    }
   ],
   "source": [
    "test_df.head()"
   ]
  },
  {
   "cell_type": "code",
   "execution_count": 92,
   "metadata": {},
   "outputs": [],
   "source": [
    "scaler = minmax_scaler = MinMaxScaler(feature_range=(0, 1))\n",
    "train_df_scaled = scaler.fit_transform(train_df)\n",
    "test_df_scaled = scaler.fit_transform(test_df)"
   ]
  },
  {
   "cell_type": "code",
   "execution_count": 93,
   "metadata": {},
   "outputs": [
    {
     "data": {
      "text/plain": [
       "(1286, 1286)"
      ]
     },
     "execution_count": 93,
     "metadata": {},
     "output_type": "execute_result"
    }
   ],
   "source": [
    "X_train = []\n",
    "y_train = []\n",
    "for i in range(100, len(train_df_scaled)):\n",
    "    X_train.append(train_df_scaled[i-100 : i])\n",
    "    y_train.append(train_df_scaled[i, 0])\n",
    "len(X_train), len(y_train)"
   ]
  },
  {
   "cell_type": "code",
   "execution_count": 94,
   "metadata": {},
   "outputs": [
    {
     "data": {
      "text/plain": [
       "(1286, 100, 1)"
      ]
     },
     "execution_count": 94,
     "metadata": {},
     "output_type": "execute_result"
    }
   ],
   "source": [
    "X_train, y_train = np.array(X_train), np.array(y_train)\n",
    "X_train.shape"
   ]
  },
  {
   "cell_type": "code",
   "execution_count": 95,
   "metadata": {},
   "outputs": [],
   "source": [
    "model = Sequential()\n",
    "model.add(LSTM(units=128, return_sequences=True, \n",
    "                input_shape=(X_train.shape[1], 1))) # input_shape=(timesteps, features)\n",
    "model.add(Dropout(0.2))\n",
    "#layer 2\n",
    "model.add(LSTM(units=100, return_sequences=True))\n",
    "model.add(Dropout(0.3))\n",
    "#layer 3\n",
    "model.add(LSTM(units=60, return_sequences=True))\n",
    "model.add(Dropout(0.4))\n",
    "#layer 4\n",
    "model.add(LSTM(units=60, return_sequences=False))\n",
    "model.add(Dropout(0.5))\n",
    "model.add(Dense(units = 1))\n"
   ]
  },
  {
   "cell_type": "code",
   "execution_count": 96,
   "metadata": {},
   "outputs": [
    {
     "name": "stdout",
     "output_type": "stream",
     "text": [
      "Model: \"sequential_2\"\n",
      "_________________________________________________________________\n",
      " Layer (type)                Output Shape              Param #   \n",
      "=================================================================\n",
      " lstm_8 (LSTM)               (None, 100, 128)          66560     \n",
      "                                                                 \n",
      " dropout_8 (Dropout)         (None, 100, 128)          0         \n",
      "                                                                 \n",
      " lstm_9 (LSTM)               (None, 100, 100)          91600     \n",
      "                                                                 \n",
      " dropout_9 (Dropout)         (None, 100, 100)          0         \n",
      "                                                                 \n",
      " lstm_10 (LSTM)              (None, 100, 60)           38640     \n",
      "                                                                 \n",
      " dropout_10 (Dropout)        (None, 100, 60)           0         \n",
      "                                                                 \n",
      " lstm_11 (LSTM)              (None, 60)                29040     \n",
      "                                                                 \n",
      " dropout_11 (Dropout)        (None, 60)                0         \n",
      "                                                                 \n",
      " dense_2 (Dense)             (None, 1)                 61        \n",
      "                                                                 \n",
      "=================================================================\n",
      "Total params: 225,901\n",
      "Trainable params: 225,901\n",
      "Non-trainable params: 0\n",
      "_________________________________________________________________\n"
     ]
    }
   ],
   "source": [
    "model.summary()"
   ]
  },
  {
   "cell_type": "code",
   "execution_count": 97,
   "metadata": {},
   "outputs": [
    {
     "name": "stdout",
     "output_type": "stream",
     "text": [
      "Epoch 1/50\n",
      "19/19 [==============================] - 13s 426ms/step - loss: 0.0567\n",
      "Epoch 2/50\n",
      "19/19 [==============================] - 8s 413ms/step - loss: 0.0218\n",
      "Epoch 3/50\n",
      "19/19 [==============================] - 9s 472ms/step - loss: 0.0172\n",
      "Epoch 4/50\n",
      "19/19 [==============================] - 9s 452ms/step - loss: 0.0146\n",
      "Epoch 5/50\n",
      "19/19 [==============================] - 9s 448ms/step - loss: 0.0135\n",
      "Epoch 6/50\n",
      "19/19 [==============================] - 9s 458ms/step - loss: 0.0125\n",
      "Epoch 7/50\n",
      "19/19 [==============================] - 9s 467ms/step - loss: 0.0111\n",
      "Epoch 8/50\n",
      "19/19 [==============================] - 9s 466ms/step - loss: 0.0140\n",
      "Epoch 9/50\n",
      "19/19 [==============================] - 9s 468ms/step - loss: 0.0109\n",
      "Epoch 10/50\n",
      "19/19 [==============================] - 9s 475ms/step - loss: 0.0112\n",
      "Epoch 11/50\n",
      "19/19 [==============================] - 9s 469ms/step - loss: 0.0104\n",
      "Epoch 12/50\n",
      "19/19 [==============================] - 9s 475ms/step - loss: 0.0098\n",
      "Epoch 13/50\n",
      "19/19 [==============================] - 9s 474ms/step - loss: 0.0109\n",
      "Epoch 14/50\n",
      "19/19 [==============================] - 9s 474ms/step - loss: 0.0090\n",
      "Epoch 15/50\n",
      "19/19 [==============================] - 9s 473ms/step - loss: 0.0090\n",
      "Epoch 16/50\n",
      "19/19 [==============================] - 9s 474ms/step - loss: 0.0089\n",
      "Epoch 17/50\n",
      "19/19 [==============================] - 9s 477ms/step - loss: 0.0092\n",
      "Epoch 18/50\n",
      "19/19 [==============================] - 9s 474ms/step - loss: 0.0087\n",
      "Epoch 19/50\n",
      "19/19 [==============================] - 9s 472ms/step - loss: 0.0083\n",
      "Epoch 20/50\n",
      "19/19 [==============================] - 9s 473ms/step - loss: 0.0080\n",
      "Epoch 21/50\n",
      "19/19 [==============================] - 10s 517ms/step - loss: 0.0080\n",
      "Epoch 22/50\n",
      "19/19 [==============================] - 14s 714ms/step - loss: 0.0084\n",
      "Epoch 23/50\n",
      "19/19 [==============================] - 13s 711ms/step - loss: 0.0078\n",
      "Epoch 24/50\n",
      "19/19 [==============================] - 13s 705ms/step - loss: 0.0078\n",
      "Epoch 25/50\n",
      "19/19 [==============================] - 13s 708ms/step - loss: 0.0075\n",
      "Epoch 26/50\n",
      "19/19 [==============================] - 14s 720ms/step - loss: 0.0087\n",
      "Epoch 27/50\n",
      "19/19 [==============================] - 12s 650ms/step - loss: 0.0074\n",
      "Epoch 28/50\n",
      "19/19 [==============================] - 10s 534ms/step - loss: 0.0069\n",
      "Epoch 29/50\n",
      "19/19 [==============================] - 10s 503ms/step - loss: 0.0068\n",
      "Epoch 30/50\n",
      "19/19 [==============================] - 9s 474ms/step - loss: 0.0067\n",
      "Epoch 31/50\n",
      "19/19 [==============================] - 9s 458ms/step - loss: 0.0066\n",
      "Epoch 32/50\n",
      "19/19 [==============================] - 9s 459ms/step - loss: 0.0071\n",
      "Epoch 33/50\n",
      "19/19 [==============================] - 9s 461ms/step - loss: 0.0064\n",
      "Epoch 34/50\n",
      "19/19 [==============================] - 13s 715ms/step - loss: 0.0067\n",
      "Epoch 35/50\n",
      "19/19 [==============================] - 13s 694ms/step - loss: 0.0064\n",
      "Epoch 36/50\n",
      "19/19 [==============================] - 14s 764ms/step - loss: 0.0065\n",
      "Epoch 37/50\n",
      "19/19 [==============================] - 13s 690ms/step - loss: 0.0062\n",
      "Epoch 38/50\n",
      "19/19 [==============================] - 13s 686ms/step - loss: 0.0063\n",
      "Epoch 39/50\n",
      "19/19 [==============================] - 13s 686ms/step - loss: 0.0058\n",
      "Epoch 40/50\n",
      "19/19 [==============================] - 12s 606ms/step - loss: 0.0056\n",
      "Epoch 41/50\n",
      "19/19 [==============================] - 9s 458ms/step - loss: 0.0059\n",
      "Epoch 42/50\n",
      "19/19 [==============================] - 9s 458ms/step - loss: 0.0059\n",
      "Epoch 43/50\n",
      "19/19 [==============================] - 9s 457ms/step - loss: 0.0059\n",
      "Epoch 44/50\n",
      "19/19 [==============================] - 9s 456ms/step - loss: 0.0054\n",
      "Epoch 45/50\n",
      "19/19 [==============================] - 9s 468ms/step - loss: 0.0055\n",
      "Epoch 46/50\n",
      "19/19 [==============================] - 9s 455ms/step - loss: 0.0056\n",
      "Epoch 47/50\n",
      "19/19 [==============================] - 13s 692ms/step - loss: 0.0050\n",
      "Epoch 48/50\n",
      "19/19 [==============================] - 13s 695ms/step - loss: 0.0053\n",
      "Epoch 49/50\n",
      "19/19 [==============================] - 13s 701ms/step - loss: 0.0053\n",
      "Epoch 50/50\n",
      "19/19 [==============================] - 13s 704ms/step - loss: 0.0055\n"
     ]
    },
    {
     "data": {
      "text/plain": [
       "<keras.callbacks.History at 0x1df22799840>"
      ]
     },
     "execution_count": 97,
     "metadata": {},
     "output_type": "execute_result"
    }
   ],
   "source": [
    "model.compile(optimizer='adam', loss='mse')\n",
    "model.fit(X_train, y_train, epochs=50, batch_size=69)"
   ]
  },
  {
   "cell_type": "code",
   "execution_count": 98,
   "metadata": {},
   "outputs": [
    {
     "data": {
      "text/html": [
       "<div>\n",
       "<style scoped>\n",
       "    .dataframe tbody tr th:only-of-type {\n",
       "        vertical-align: middle;\n",
       "    }\n",
       "\n",
       "    .dataframe tbody tr th {\n",
       "        vertical-align: top;\n",
       "    }\n",
       "\n",
       "    .dataframe thead th {\n",
       "        text-align: right;\n",
       "    }\n",
       "</style>\n",
       "<table border=\"1\" class=\"dataframe\">\n",
       "  <thead>\n",
       "    <tr style=\"text-align: right;\">\n",
       "      <th></th>\n",
       "      <th>Close</th>\n",
       "    </tr>\n",
       "  </thead>\n",
       "  <tbody>\n",
       "    <tr>\n",
       "      <th>1286</th>\n",
       "      <td>223.35</td>\n",
       "    </tr>\n",
       "    <tr>\n",
       "      <th>1287</th>\n",
       "      <td>215.15</td>\n",
       "    </tr>\n",
       "    <tr>\n",
       "      <th>1288</th>\n",
       "      <td>215.20</td>\n",
       "    </tr>\n",
       "    <tr>\n",
       "      <th>1289</th>\n",
       "      <td>203.65</td>\n",
       "    </tr>\n",
       "    <tr>\n",
       "      <th>1290</th>\n",
       "      <td>209.85</td>\n",
       "    </tr>\n",
       "    <tr>\n",
       "      <th>...</th>\n",
       "      <td>...</td>\n",
       "    </tr>\n",
       "    <tr>\n",
       "      <th>1381</th>\n",
       "      <td>191.60</td>\n",
       "    </tr>\n",
       "    <tr>\n",
       "      <th>1382</th>\n",
       "      <td>191.45</td>\n",
       "    </tr>\n",
       "    <tr>\n",
       "      <th>1383</th>\n",
       "      <td>190.95</td>\n",
       "    </tr>\n",
       "    <tr>\n",
       "      <th>1384</th>\n",
       "      <td>190.65</td>\n",
       "    </tr>\n",
       "    <tr>\n",
       "      <th>1385</th>\n",
       "      <td>193.80</td>\n",
       "    </tr>\n",
       "  </tbody>\n",
       "</table>\n",
       "<p>100 rows × 1 columns</p>\n",
       "</div>"
      ],
      "text/plain": [
       "       Close\n",
       "1286  223.35\n",
       "1287  215.15\n",
       "1288  215.20\n",
       "1289  203.65\n",
       "1290  209.85\n",
       "...      ...\n",
       "1381  191.60\n",
       "1382  191.45\n",
       "1383  190.95\n",
       "1384  190.65\n",
       "1385  193.80\n",
       "\n",
       "[100 rows x 1 columns]"
      ]
     },
     "execution_count": 98,
     "metadata": {},
     "output_type": "execute_result"
    }
   ],
   "source": [
    "train_df.tail(100)"
   ]
  },
  {
   "cell_type": "code",
   "execution_count": 99,
   "metadata": {},
   "outputs": [],
   "source": [
    "past_100 = train_df.tail(100)"
   ]
  },
  {
   "cell_type": "code",
   "execution_count": 100,
   "metadata": {},
   "outputs": [
    {
     "name": "stderr",
     "output_type": "stream",
     "text": [
      "C:\\Users\\chinn\\AppData\\Local\\Temp\\ipykernel_2268\\2591333897.py:1: FutureWarning: The frame.append method is deprecated and will be removed from pandas in a future version. Use pandas.concat instead.\n",
      "  final_df = past_100.append(test_df, ignore_index=True)\n"
     ]
    },
    {
     "data": {
      "text/html": [
       "<div>\n",
       "<style scoped>\n",
       "    .dataframe tbody tr th:only-of-type {\n",
       "        vertical-align: middle;\n",
       "    }\n",
       "\n",
       "    .dataframe tbody tr th {\n",
       "        vertical-align: top;\n",
       "    }\n",
       "\n",
       "    .dataframe thead th {\n",
       "        text-align: right;\n",
       "    }\n",
       "</style>\n",
       "<table border=\"1\" class=\"dataframe\">\n",
       "  <thead>\n",
       "    <tr style=\"text-align: right;\">\n",
       "      <th></th>\n",
       "      <th>Close</th>\n",
       "    </tr>\n",
       "  </thead>\n",
       "  <tbody>\n",
       "    <tr>\n",
       "      <th>0</th>\n",
       "      <td>223.35</td>\n",
       "    </tr>\n",
       "    <tr>\n",
       "      <th>1</th>\n",
       "      <td>215.15</td>\n",
       "    </tr>\n",
       "    <tr>\n",
       "      <th>2</th>\n",
       "      <td>215.20</td>\n",
       "    </tr>\n",
       "    <tr>\n",
       "      <th>3</th>\n",
       "      <td>203.65</td>\n",
       "    </tr>\n",
       "    <tr>\n",
       "      <th>4</th>\n",
       "      <td>209.85</td>\n",
       "    </tr>\n",
       "  </tbody>\n",
       "</table>\n",
       "</div>"
      ],
      "text/plain": [
       "    Close\n",
       "0  223.35\n",
       "1  215.15\n",
       "2  215.20\n",
       "3  203.65\n",
       "4  209.85"
      ]
     },
     "execution_count": 100,
     "metadata": {},
     "output_type": "execute_result"
    }
   ],
   "source": [
    "final_df = past_100.append(test_df, ignore_index=True)\n",
    "final_df.head()"
   ]
  },
  {
   "cell_type": "code",
   "execution_count": 101,
   "metadata": {},
   "outputs": [
    {
     "data": {
      "text/plain": [
       "562"
      ]
     },
     "execution_count": 101,
     "metadata": {},
     "output_type": "execute_result"
    }
   ],
   "source": [
    "input_data = scaler.fit_transform(final_df)\n",
    "len(input_data)"
   ]
  },
  {
   "cell_type": "code",
   "execution_count": 102,
   "metadata": {},
   "outputs": [],
   "source": [
    "X_test = []\n",
    "y_test = []\n",
    "for i in range(100, len(input_data)):\n",
    "    X_test.append(input_data[i-100 : i])\n",
    "    y_test.append(input_data[i, 0])"
   ]
  },
  {
   "cell_type": "code",
   "execution_count": 103,
   "metadata": {},
   "outputs": [
    {
     "data": {
      "text/plain": [
       "((462, 100, 1), (462,))"
      ]
     },
     "execution_count": 103,
     "metadata": {},
     "output_type": "execute_result"
    }
   ],
   "source": [
    "X_test, y_test = np.array(X_test), np.array(y_test)\n",
    "X_test.shape, y_test.shape"
   ]
  },
  {
   "cell_type": "code",
   "execution_count": 104,
   "metadata": {},
   "outputs": [],
   "source": [
    "y_pred = model.predict(X_test)"
   ]
  },
  {
   "cell_type": "code",
   "execution_count": 105,
   "metadata": {},
   "outputs": [
    {
     "data": {
      "text/plain": [
       "array([0.00256608])"
      ]
     },
     "execution_count": 105,
     "metadata": {},
     "output_type": "execute_result"
    }
   ],
   "source": [
    "scaler.scale_"
   ]
  },
  {
   "cell_type": "code",
   "execution_count": 106,
   "metadata": {},
   "outputs": [],
   "source": [
    "scale_factor = 1/0.00256608\n",
    "y_pred = y_pred*scale_factor\n",
    "y_test = y_test*scale_factor"
   ]
  },
  {
   "cell_type": "code",
   "execution_count": 107,
   "metadata": {},
   "outputs": [
    {
     "data": {
      "text/plain": [
       "((462, 1), (462,))"
      ]
     },
     "execution_count": 107,
     "metadata": {},
     "output_type": "execute_result"
    }
   ],
   "source": [
    "y_pred.shape, y_test.shape"
   ]
  },
  {
   "cell_type": "code",
   "execution_count": 108,
   "metadata": {},
   "outputs": [
    {
     "data": {
      "text/plain": [
       "15.459902580507569"
      ]
     },
     "execution_count": 108,
     "metadata": {},
     "output_type": "execute_result"
    }
   ],
   "source": [
    "import math\n",
    "rmse = math.sqrt(mean_squared_error(y_test, y_pred))\n",
    "rmse"
   ]
  },
  {
   "cell_type": "code",
   "execution_count": 109,
   "metadata": {},
   "outputs": [
    {
     "data": {
      "text/plain": [
       "Text(0, 0.5, 'Price')"
      ]
     },
     "execution_count": 109,
     "metadata": {},
     "output_type": "execute_result"
    },
    {
     "data": {
      "image/png": "[encoded data removed]",
      "text/plain": [
       "<Figure size 864x576 with 1 Axes>"
      ]
     },
     "metadata": {
      "needs_background": "light"
     },
     "output_type": "display_data"
    }
   ],
   "source": [
    "plt.figure(figsize=(12,8))\n",
    "plt.plot(y_test, color='red', label='Actual')\n",
    "plt.plot(y_pred, color='blue', label='Predicted')\n",
    "plt.xlabel('Time')\n",
    "plt.ylabel('Price')"
   ]
  },
  {
   "cell_type": "code",
   "execution_count": 114,
   "metadata": {},
   "outputs": [
    {
     "data": {
      "text/html": [
       "<div>\n",
       "<style scoped>\n",
       "    .dataframe tbody tr th:only-of-type {\n",
       "        vertical-align: middle;\n",
       "    }\n",
       "\n",
       "    .dataframe tbody tr th {\n",
       "        vertical-align: top;\n",
       "    }\n",
       "\n",
       "    .dataframe thead th {\n",
       "        text-align: right;\n",
       "    }\n",
       "</style>\n",
       "<table border=\"1\" class=\"dataframe\">\n",
       "  <thead>\n",
       "    <tr style=\"text-align: right;\">\n",
       "      <th></th>\n",
       "      <th>Open</th>\n",
       "      <th>High</th>\n",
       "      <th>Low</th>\n",
       "      <th>Close</th>\n",
       "      <th>Volume</th>\n",
       "    </tr>\n",
       "    <tr>\n",
       "      <th>Date</th>\n",
       "      <th></th>\n",
       "      <th></th>\n",
       "      <th></th>\n",
       "      <th></th>\n",
       "      <th></th>\n",
       "    </tr>\n",
       "  </thead>\n",
       "  <tbody>\n",
       "    <tr>\n",
       "      <th>2015-01-01</th>\n",
       "      <td>312.45</td>\n",
       "      <td>315.00</td>\n",
       "      <td>310.70</td>\n",
       "      <td>314.00</td>\n",
       "      <td>6138488</td>\n",
       "    </tr>\n",
       "    <tr>\n",
       "      <th>2015-01-02</th>\n",
       "      <td>314.35</td>\n",
       "      <td>318.30</td>\n",
       "      <td>314.35</td>\n",
       "      <td>315.25</td>\n",
       "      <td>9935094</td>\n",
       "    </tr>\n",
       "    <tr>\n",
       "      <th>2015-01-05</th>\n",
       "      <td>316.25</td>\n",
       "      <td>316.80</td>\n",
       "      <td>312.10</td>\n",
       "      <td>312.75</td>\n",
       "      <td>9136716</td>\n",
       "    </tr>\n",
       "    <tr>\n",
       "      <th>2015-01-06</th>\n",
       "      <td>310.00</td>\n",
       "      <td>311.10</td>\n",
       "      <td>298.70</td>\n",
       "      <td>299.90</td>\n",
       "      <td>15329257</td>\n",
       "    </tr>\n",
       "    <tr>\n",
       "      <th>2015-01-07</th>\n",
       "      <td>300.00</td>\n",
       "      <td>302.55</td>\n",
       "      <td>295.15</td>\n",
       "      <td>300.15</td>\n",
       "      <td>15046745</td>\n",
       "    </tr>\n",
       "    <tr>\n",
       "      <th>...</th>\n",
       "      <td>...</td>\n",
       "      <td>...</td>\n",
       "      <td>...</td>\n",
       "      <td>...</td>\n",
       "      <td>...</td>\n",
       "    </tr>\n",
       "    <tr>\n",
       "      <th>2022-06-13</th>\n",
       "      <td>454.00</td>\n",
       "      <td>454.05</td>\n",
       "      <td>442.10</td>\n",
       "      <td>445.85</td>\n",
       "      <td>13426836</td>\n",
       "    </tr>\n",
       "    <tr>\n",
       "      <th>2022-06-14</th>\n",
       "      <td>445.00</td>\n",
       "      <td>449.25</td>\n",
       "      <td>443.35</td>\n",
       "      <td>448.10</td>\n",
       "      <td>11351101</td>\n",
       "    </tr>\n",
       "    <tr>\n",
       "      <th>2022-06-15</th>\n",
       "      <td>448.95</td>\n",
       "      <td>455.45</td>\n",
       "      <td>448.60</td>\n",
       "      <td>451.35</td>\n",
       "      <td>9920926</td>\n",
       "    </tr>\n",
       "    <tr>\n",
       "      <th>2022-06-16</th>\n",
       "      <td>455.15</td>\n",
       "      <td>457.75</td>\n",
       "      <td>440.15</td>\n",
       "      <td>441.60</td>\n",
       "      <td>10780703</td>\n",
       "    </tr>\n",
       "    <tr>\n",
       "      <th>2022-06-17</th>\n",
       "      <td>440.00</td>\n",
       "      <td>447.55</td>\n",
       "      <td>437.25</td>\n",
       "      <td>441.00</td>\n",
       "      <td>14326050</td>\n",
       "    </tr>\n",
       "  </tbody>\n",
       "</table>\n",
       "<p>1848 rows × 5 columns</p>\n",
       "</div>"
      ],
      "text/plain": [
       "              Open    High     Low   Close    Volume\n",
       "Date                                                \n",
       "2015-01-01  312.45  315.00  310.70  314.00   6138488\n",
       "2015-01-02  314.35  318.30  314.35  315.25   9935094\n",
       "2015-01-05  316.25  316.80  312.10  312.75   9136716\n",
       "2015-01-06  310.00  311.10  298.70  299.90  15329257\n",
       "2015-01-07  300.00  302.55  295.15  300.15  15046745\n",
       "...            ...     ...     ...     ...       ...\n",
       "2022-06-13  454.00  454.05  442.10  445.85  13426836\n",
       "2022-06-14  445.00  449.25  443.35  448.10  11351101\n",
       "2022-06-15  448.95  455.45  448.60  451.35   9920926\n",
       "2022-06-16  455.15  457.75  440.15  441.60  10780703\n",
       "2022-06-17  440.00  447.55  437.25  441.00  14326050\n",
       "\n",
       "[1848 rows x 5 columns]"
      ]
     },
     "execution_count": 114,
     "metadata": {},
     "output_type": "execute_result"
    }
   ],
   "source": [
    "d = stock_df(stock_name, start_date, end_date)\n",
    "df = d[['Open', 'High', 'Low', 'Close', 'Volume']]\n",
    "df"
   ]
  },
  {
   "cell_type": "code",
   "execution_count": 115,
   "metadata": {},
   "outputs": [
    {
     "name": "stderr",
     "output_type": "stream",
     "text": [
      "C:\\Users\\chinn\\AppData\\Local\\Temp\\ipykernel_2268\\2021093218.py:4: SettingWithCopyWarning: \n",
      "A value is trying to be set on a copy of a slice from a DataFrame.\n",
      "Try using .loc[row_indexer,col_indexer] = value instead\n",
      "\n",
      "See the caveats in the documentation: https://pandas.pydata.org/pandas-docs/stable/user_guide/indexing.html#returning-a-view-versus-a-copy\n",
      "  df['MA100'] = df['Close'].rolling(short_window).mean()\n",
      "C:\\Users\\chinn\\AppData\\Local\\Temp\\ipykernel_2268\\2021093218.py:5: SettingWithCopyWarning: \n",
      "A value is trying to be set on a copy of a slice from a DataFrame.\n",
      "Try using .loc[row_indexer,col_indexer] = value instead\n",
      "\n",
      "See the caveats in the documentation: https://pandas.pydata.org/pandas-docs/stable/user_guide/indexing.html#returning-a-view-versus-a-copy\n",
      "  df['MA200'] = df['Close'].rolling(long_window).mean()\n",
      "C:\\Users\\chinn\\AppData\\Local\\Temp\\ipykernel_2268\\2021093218.py:6: SettingWithCopyWarning: \n",
      "A value is trying to be set on a copy of a slice from a DataFrame.\n",
      "Try using .loc[row_indexer,col_indexer] = value instead\n",
      "\n",
      "See the caveats in the documentation: https://pandas.pydata.org/pandas-docs/stable/user_guide/indexing.html#returning-a-view-versus-a-copy\n",
      "  df['MA20'] = df['Close'].rolling(20).mean()\n",
      "C:\\Users\\chinn\\AppData\\Local\\Temp\\ipykernel_2268\\2021093218.py:7: SettingWithCopyWarning: \n",
      "A value is trying to be set on a copy of a slice from a DataFrame.\n",
      "Try using .loc[row_indexer,col_indexer] = value instead\n",
      "\n",
      "See the caveats in the documentation: https://pandas.pydata.org/pandas-docs/stable/user_guide/indexing.html#returning-a-view-versus-a-copy\n",
      "  df['Signal'] = 0\n",
      "C:\\Users\\chinn\\AppData\\Local\\Temp\\ipykernel_2268\\2021093218.py:8: SettingWithCopyWarning: \n",
      "A value is trying to be set on a copy of a slice from a DataFrame.\n",
      "Try using .loc[row_indexer,col_indexer] = value instead\n",
      "\n",
      "See the caveats in the documentation: https://pandas.pydata.org/pandas-docs/stable/user_guide/indexing.html#returning-a-view-versus-a-copy\n",
      "  df['Signal'] = np.where(df['MA100'] > df['MA200'], 1, 0)\n",
      "C:\\Users\\chinn\\AppData\\Local\\Temp\\ipykernel_2268\\2021093218.py:9: SettingWithCopyWarning: \n",
      "A value is trying to be set on a copy of a slice from a DataFrame.\n",
      "Try using .loc[row_indexer,col_indexer] = value instead\n",
      "\n",
      "See the caveats in the documentation: https://pandas.pydata.org/pandas-docs/stable/user_guide/indexing.html#returning-a-view-versus-a-copy\n",
      "  df['Position'] = df['Signal'].diff()\n"
     ]
    },
    {
     "data": {
      "image/png": "[encoded data removed]",
      "text/plain": [
       "<Figure size 1440x720 with 1 Axes>"
      ]
     },
     "metadata": {
      "needs_background": "light"
     },
     "output_type": "display_data"
    }
   ],
   "source": [
    "# Indicator 1 - Momentum\n",
    "# Moving Averages\n",
    "def moving_average(df, short_window = 100, long_window = 200):\n",
    "    df['MA100'] = df['Close'].rolling(short_window).mean()\n",
    "    df['MA200'] = df['Close'].rolling(long_window).mean()\n",
    "    df['MA20'] = df['Close'].rolling(20).mean()\n",
    "    df['Signal'] = 0\n",
    "    df['Signal'] = np.where(df['MA100'] > df['MA200'], 1, 0)\n",
    "    df['Position'] = df['Signal'].diff()\n",
    "\n",
    "    plt.figure(figsize = (20,10))\n",
    "    plt.tick_params(axis = 'both', labelsize = 14)\n",
    "    df['Close'].plot(color = 'k', lw = 1, label = 'Close Price')  \n",
    "    df['MA100'].plot(color = 'g', lw = 1, label = 'MA100')\n",
    "    df['MA200'].plot(color = 'r', lw = 1, label = 'MA200') \n",
    "\n",
    "    # plot 'buy' signals\n",
    "    plt.plot(df[df['Position'] == 1].index, \n",
    "            df['MA100'][df['Position'] == 1], \n",
    "            '^', markersize = 15, color = 'g', alpha = 0.7, label = 'buy')\n",
    "\n",
    "    # plot 'sell' signals\n",
    "    plt.plot(df[df['Position'] == -1].index, \n",
    "            df['MA100'][df['Position'] == -1], \n",
    "            'v', markersize = 15, color = 'r', alpha = 0.7, label = 'sell')\n",
    "    plt.ylabel('Price in ₹', fontsize = 16 )\n",
    "    plt.xlabel('Date', fontsize = 16 )\n",
    "    plt.legend()\n",
    "    plt.grid()\n",
    "    plt.show()\n",
    "\n",
    "moving_average(df)"
   ]
  },
  {
   "cell_type": "code",
   "execution_count": null,
   "metadata": {},
   "outputs": [
    {
     "ename": "NameError",
     "evalue": "name 'RSIIndicator' is not defined",
     "output_type": "error",
     "traceback": [
      "\u001b[1;31m---------------------------------------------------------------------------\u001b[0m",
      "\u001b[1;31mNameError\u001b[0m                                 Traceback (most recent call last)",
      "\u001b[1;32md:\\Projects\\Stock-Price-Prediction\\Model.ipynb Cell 29'\u001b[0m in \u001b[0;36m<cell line: 3>\u001b[1;34m()\u001b[0m\n\u001b[0;32m      <a href='vscode-notebook-cell:/d%3A/Projects/Stock-Price-Prediction/Model.ipynb#ch0000031?line=0'>1</a>\u001b[0m \u001b[39m# Indicator 2 - Momentum\u001b[39;00m\n\u001b[0;32m      <a href='vscode-notebook-cell:/d%3A/Projects/Stock-Price-Prediction/Model.ipynb#ch0000031?line=1'>2</a>\u001b[0m \u001b[39m# Relative Strength Index\u001b[39;00m\n\u001b[1;32m----> <a href='vscode-notebook-cell:/d%3A/Projects/Stock-Price-Prediction/Model.ipynb#ch0000031?line=2'>3</a>\u001b[0m rsi \u001b[39m=\u001b[39m RSIIndicator(df[\u001b[39m'\u001b[39m\u001b[39mClose\u001b[39m\u001b[39m'\u001b[39m], \u001b[39m14\u001b[39m)\u001b[39m.\u001b[39mrsi()\n\u001b[0;32m      <a href='vscode-notebook-cell:/d%3A/Projects/Stock-Price-Prediction/Model.ipynb#ch0000031?line=3'>4</a>\u001b[0m \u001b[39mdef\u001b[39;00m \u001b[39mrelative_strength_index\u001b[39m(df, rsi):\n\u001b[0;32m      <a href='vscode-notebook-cell:/d%3A/Projects/Stock-Price-Prediction/Model.ipynb#ch0000031?line=4'>5</a>\u001b[0m     \u001b[39mif\u001b[39;00m(rsi[\u001b[39m-\u001b[39m\u001b[39m7\u001b[39m:]\u001b[39m.\u001b[39mmean() \u001b[39m>\u001b[39m \u001b[39m80\u001b[39m):\n",
      "\u001b[1;31mNameError\u001b[0m: name 'RSIIndicator' is not defined"
     ]
    }
   ],
   "source": [
    "# Indicator 2 - Momentum\n",
    "# Relative Strength Index\n",
    "rsi = RSIIndicator(df['Close'], 14).rsi()\n",
    "def relative_strength_index(df, rsi):\n",
    "    if(rsi[-7:].mean() > 80):\n",
    "        print('Alert : Do Not buy this stock, market value exceeded 80%')\n",
    "    if(rsi[-7:].mean() < 20):\n",
    "        print('Alert : Do Not sell this stock, market value below 20%')\n",
    "    else:\n",
    "        if(rsi[-7:].mean() > 50):\n",
    "            return 'Prefer Buy'\n",
    "        elif(rsi[-7:].mean() < 50):\n",
    "            return 'Prefer Sell'\n",
    "        else:\n",
    "            return 'Prefer Hold'\n",
    "    \n",
    "relative_strength_index(df, rsi)"
   ]
  }
 ],
 "metadata": {
  "kernelspec": {
   "display_name": "Python 3.10.2 64-bit",
   "language": "python",
   "name": "python3"
  },
  "language_info": {
   "codemirror_mode": {
    "name": "ipython",
    "version": 3
   },
   "file_extension": ".py",
   "mimetype": "text/x-python",
   "name": "python",
   "nbconvert_exporter": "python",
   "pygments_lexer": "ipython3",
   "version": "3.10.2"
  },
  "orig_nbformat": 4,
  "vscode": {
   "interpreter": {
    "hash": "7ed61418d8462f35915fb268caafa07799a32fbf32098b24f8c26db2cb7523f4"
   }
  }
 },
 "nbformat": 4,
 "nbformat_minor": 2
}
